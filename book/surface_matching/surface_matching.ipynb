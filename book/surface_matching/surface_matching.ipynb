{
 "cells": [
  {
   "cell_type": "markdown",
   "metadata": {},
   "source": [
    "# Surface Matching: example on human scapula\n",
    "---\n",
    "\n",
    "This notebook presents a method to match a point cloud taken with any scanning system to a digital 3D scan in stl format.\n"
   ]
  },
  {
   "cell_type": "markdown",
   "metadata": {},
   "source": [
    "## Introduction\n",
    "\n",
    "### Context\n",
    "The proposed surface registration method concerns an application in surgical navigation. A preoperative scan of the scapula is performed, providing a 3D file of this bony element. The objective of this surface registration is to allow the surgeon to visualize the virtual scapula in place of the real one during the operation in order to locate characteristic geometric elements, mainly drilling axes.\n",
    "\n",
    "### Method outlines\n",
    "\n",
    "Surface matching is based on an optimization strategy.\n",
    "The objective of this optimization is to identify the parameters of the reference change allowing to pass from the coordinate system of the STL file to the coordinate system of the scan system.\n",
    "\n",
    "This change of reference frame is formalized by a passage matrix formed by a rotation vector and a translation vector according to the Rodrigues formalism.\n",
    "There are thus a total of 6 DOF.\n",
    "\n",
    "The optimization parameters of the cost function will therefore be these two vectors. \n",
    "The residual is defined by the signed distance between the points coming from the measurement systems after the change of reference frame and the stl mesh. This distance is calculated between the points of the closest scanning system and the STL mesh.\n",
    "\n",
    "This problem being badly formulated, it is necessary to establish an initial solution in order to have a correct result. \n",
    "\n",
    "This is why in a first step, we establish an initial guess start using points that are identified on the STL model but also on the real model. \n",
    "A minimum of 3 points is necessary to block the 6DOF.\n",
    "\n",
    "Then, in a second step, an optimization will be performed with the whole scan taking as initial solution the one previously calculated.\n",
    "\n"
   ]
  },
  {
   "cell_type": "markdown",
   "metadata": {},
   "source": [
    "### Modules importations"
   ]
  },
  {
   "cell_type": "code",
   "execution_count": null,
   "metadata": {},
   "outputs": [],
   "source": [
    "import trimesh  # <- conda install -c conda-forge scikit-image shapely rtree pyembree / pip install trimesh[all]\n",
    "import numpy as np  # <- conda install -c anaconda numpy\n",
    "from stl import mesh  # <- conda install -c conda-forge numpy-stl\n",
    "from scipy import optimize  # <- conda install -c anaconda scipy\n",
    "import plotly.graph_objects as go  # <- conda install -c plotly plotly\n",
    "from plotly.subplots import make_subplots\n",
    "from skimage import io\n",
    "import pandas as pd  # <- conda install -c anaconda pandas\n",
    "import gbu  # <- python -m pip install git+https://github.com/elmokulc/GBU_pose_classifier.git"
   ]
  },
  {
   "cell_type": "markdown",
   "metadata": {},
   "source": [
    "### Case of study\n",
    "\n",
    "Left Human scapula stl file"
   ]
  },
  {
   "cell_type": "code",
   "execution_count": null,
   "metadata": {
    "tags": [
     "hide-input"
    ]
   },
   "outputs": [],
   "source": [
    "def stl2mesh3d(stl_mesh):\n",
    "    # stl_mesh is read by nympy-stl from a stl file; it is  an array of faces/triangles (i.e. three 3d points)\n",
    "    # this function extracts the unique vertices and the lists I, J, K to define a Plotly mesh3d\n",
    "    p, q, r = stl_mesh.vectors.shape  # (p, 3, 3)\n",
    "    # the array stl_mesh.vectors.reshape(p*q, r) can contain multiple copies of the same vertex;\n",
    "    # extract unique vertices from all mesh triangles\n",
    "    vertices, ixr = np.unique(\n",
    "        stl_mesh.vectors.reshape(p * q, r), return_inverse=True, axis=0\n",
    "    )\n",
    "    I = np.take(ixr, [3 * k for k in range(p)])\n",
    "    J = np.take(ixr, [3 * k + 1 for k in range(p)])\n",
    "    K = np.take(ixr, [3 * k + 2 for k in range(p)])\n",
    "    return vertices, I, J, K\n",
    "\n",
    "\n",
    "def create_mesh3D(\n",
    "    stl_file=\"scapula.stl\",\n",
    "    title=\"Mesh3d from a STL file<br>AT&T building\",\n",
    "    colorscale=None,\n",
    "    return_mesh=False,\n",
    "):\n",
    "\n",
    "    if colorscale is None:\n",
    "        colorscale = [[0, \"#e5dee5\"], [1, \"#e5dee5\"]]\n",
    "    vertices, I, J, K = stl2mesh3d(mesh.Mesh.from_file(stl_file))\n",
    "    x, y, z = vertices.T\n",
    "    mesh3D = go.Mesh3d(\n",
    "        x=x,\n",
    "        y=y,\n",
    "        z=z,\n",
    "        i=I,\n",
    "        j=J,\n",
    "        k=K,\n",
    "        flatshading=True,\n",
    "        colorscale=colorscale,\n",
    "        intensity=z,\n",
    "        name=\"AT&T\",\n",
    "        showscale=False,\n",
    "    )\n",
    "\n",
    "    layout = go.Layout(\n",
    "        paper_bgcolor=\"rgb(1,1,1)\",\n",
    "        title_text=title,\n",
    "        title_x=0.5,\n",
    "        font_color=\"white\",\n",
    "        width=800,\n",
    "        height=800,\n",
    "        scene_camera=dict(eye=dict(x=1.25, y=-1.25, z=1)),\n",
    "        scene_xaxis_visible=False,\n",
    "        scene_yaxis_visible=False,\n",
    "        scene_zaxis_visible=False,\n",
    "    )\n",
    "    fig = go.Figure(data=[mesh3D], layout=layout)\n",
    "\n",
    "    lighting_effects = dict(\n",
    "        ambient=0.4,\n",
    "        diffuse=1,\n",
    "        roughness=0.1,\n",
    "        specular=1,\n",
    "        fresnel=0.1,\n",
    "        facenormalsepsilon=0,\n",
    "    )\n",
    "    fig.data[0].update(lighting=lighting_effects)\n",
    "    norm_light = 3000\n",
    "    light_vec = np.array([1, 1, 1]) * norm_light\n",
    "    fig.data[0].update(\n",
    "        lightposition=dict(x=light_vec[0], y=light_vec[1], z=light_vec[2])\n",
    "    )\n",
    "\n",
    "    if return_mesh:\n",
    "        return fig, mesh3D\n",
    "    else:\n",
    "        return fig\n",
    "\n",
    "\n",
    "def add_points(points, fig, name, scale=1e3, return_sct=False, *args, **kwargs):\n",
    "    sct = go.Scatter3d(\n",
    "        x=np.concatenate([points, points]).reshape(-1, 3)[:, 0] * scale,\n",
    "        y=np.concatenate([points, points]).reshape(-1, 3)[:, 1] * scale,\n",
    "        z=np.concatenate([points, points]).reshape(-1, 3)[:, 2] * scale,\n",
    "        name=name,\n",
    "        mode=\"markers\",\n",
    "        **kwargs\n",
    "    )\n",
    "    fig.add_trace(sct)\n",
    "    if return_sct:\n",
    "        return fig, sct\n",
    "    else:\n",
    "        return fig\n",
    "\n",
    "\n",
    "fig = create_mesh3D(stl_file=\"scapula.stl\", title=\"Scapula Left <br> stl file\")\n",
    "\n",
    "# Default parameters which are used when `layout.scene.camera` is not provided\n",
    "camera = dict(\n",
    "    {\n",
    "        \"up\": {\n",
    "            \"x\": -0.21093935628004745,\n",
    "            \"y\": 0.9709915345335655,\n",
    "            \"z\": -0.11260562968302706,\n",
    "        },\n",
    "        \"center\": {\n",
    "            \"x\": 4.440892098500626e-16,\n",
    "            \"y\": 2.220446049250313e-16,\n",
    "            \"z\": 2.220446049250313e-16,\n",
    "        },\n",
    "        \"eye\": {\n",
    "            \"x\": -0.9649023779446427,\n",
    "            \"y\": -0.42881411996928454,\n",
    "            \"z\": -1.8901274696569388,\n",
    "        },\n",
    "    }\n",
    ")\n",
    "\n",
    "fig.update_layout(\n",
    "    scene_camera=camera,\n",
    "    autosize=False,\n",
    "    width=500,\n",
    "    height=500,\n",
    ")\n",
    "fig.show()"
   ]
  },
  {
   "cell_type": "markdown",
   "metadata": {},
   "source": [
    "## STL file \n",
    "\n",
    "We define reference points on the STL file that can be easily found on the real model.<br>\n",
    "A point on the glenoid, coracoid and acromion is selected.<br>\n",
    "The same points are easily found on the real model and are marked in green on right picture.<br>\n",
    "It will therefore be necessary to point out these reference points with the scanning system.\n",
    "In our case, we take about ten images for each reference point using a localized touch probe."
   ]
  },
  {
   "cell_type": "code",
   "execution_count": null,
   "metadata": {
    "tags": [
     "hide-input"
    ]
   },
   "outputs": [],
   "source": [
    "p_glene_stl = np.array([0.02515289854664963, 0.03122873596800735, 0.036798809060995745])\n",
    "p_coracoide_stl = np.array(\n",
    "    [0.026787610816186087, 0.05609095153197788, -0.0043762069034760384]\n",
    ")\n",
    "p_acromion_stl = np.array(\n",
    "    [-0.008420164259823573, 0.07140986464971243, 0.018059532550748165]\n",
    ")\n",
    "\n",
    "_, mesh_scp = create_mesh3D(\n",
    "    stl_file=\"scapula.stl\", title=\"Scapula Left <br> stl file\", return_mesh=True\n",
    ")\n",
    "_, sct_g = add_points(points=p_glene_stl, fig=fig, name=\"glène\", return_sct=True)\n",
    "_, sct_c = add_points(\n",
    "    points=p_coracoide_stl, fig=fig, name=\"coracoide\", return_sct=True\n",
    ")\n",
    "_, sct_a = add_points(points=p_acromion_stl, fig=fig, name=\"acromion\", return_sct=True)\n",
    "\n",
    "from skimage import io\n",
    "\n",
    "img = io.imread(\"./scapula.jpg\")\n",
    "py_img = go.Image(z=img)\n",
    "\n",
    "fig = make_subplots(rows=1, cols=2, specs=[[{\"type\": \"scene\"}, {\"type\": \"xy\"}]])\n",
    "fig.add_trace(mesh_scp, row=1, col=1)\n",
    "fig.add_trace(sct_g, row=1, col=1)\n",
    "fig.add_trace(sct_c, row=1, col=1)\n",
    "fig.add_trace(sct_a, row=1, col=1)\n",
    "\n",
    "fig.add_trace(py_img, row=1, col=2)\n",
    "\n",
    "fig.update_layout(legend=dict(yanchor=\"top\", y=0.99, xanchor=\"left\", x=0.01))\n",
    "camera2 = dict(\n",
    "    {\n",
    "        \"up\": {\n",
    "            \"x\": -0.09290562553004168,\n",
    "            \"y\": 0.9949981882608847,\n",
    "            \"z\": 0.036703543458753214,\n",
    "        },\n",
    "        \"center\": {\"x\": 1.734723475976807e-18, \"y\": -1.6653345369377348e-16, \"z\": 0},\n",
    "        \"eye\": {\n",
    "            \"x\": -1.873747674753225,\n",
    "            \"y\": -0.08025528377052311,\n",
    "            \"z\": -2.567268143040944,\n",
    "        },\n",
    "    }\n",
    ")\n",
    "fig.update_layout(\n",
    "    scene_camera=camera2,\n",
    "    autosize=False,\n",
    "    width=750,\n",
    "    height=750,\n",
    ")\n",
    "\n",
    "layout = go.Layout(\n",
    "    paper_bgcolor=\"rgb(1,1,1)\",\n",
    "    title_x=0.5,\n",
    "    font_color=\"white\",\n",
    "    scene_xaxis_visible=False,\n",
    "    scene_yaxis_visible=False,\n",
    "    scene_zaxis_visible=False,\n",
    ")\n",
    "fig.update_layout(layout)\n",
    "lighting_effects = dict(\n",
    "    ambient=0.4,\n",
    "    diffuse=1,\n",
    "    roughness=0.1,\n",
    "    specular=1,\n",
    "    fresnel=0.1,\n",
    "    facenormalsepsilon=0,\n",
    ")\n",
    "fig.data[0].update(lighting=lighting_effects)\n",
    "norm_light = 3000\n",
    "light_vec = np.array([1, 1, 1]) * norm_light\n",
    "fig.data[0].update(lightposition=dict(x=light_vec[0], y=light_vec[1], z=light_vec[2]))\n",
    "\n",
    "fig.show()"
   ]
  },
  {
   "cell_type": "markdown",
   "metadata": {},
   "source": [
    "## System scan device\n",
    "### Get scanned points from our system scan device\n",
    "\n",
    "We get the points recorded by our system system scan device.<bt>\n",
    "Each reference points are labeled respectively and so the full scan of glenoid."
   ]
  },
  {
   "cell_type": "code",
   "execution_count": null,
   "metadata": {},
   "outputs": [],
   "source": [
    "df_scan = pd.read_pickle(\"data_scan.p\")\n",
    "df_scan"
   ]
  },
  {
   "cell_type": "markdown",
   "metadata": {},
   "source": [
    "### Plot scanned points in their reference frame\n",
    "\n",
    "Here the points are expressed in scapula reference frame "
   ]
  },
  {
   "cell_type": "code",
   "execution_count": null,
   "metadata": {
    "tags": [
     "hide-input"
    ]
   },
   "outputs": [],
   "source": [
    "cols = set([cols[0] for cols in df_scan.columns])\n",
    "fig = go.Figure()\n",
    "for i, c in enumerate(cols):\n",
    "    fig.add_trace(\n",
    "        go.Scatter3d(\n",
    "            x=df_scan[c].p3d.x,\n",
    "            y=df_scan[c].p3d.y,\n",
    "            z=df_scan[c].p3d.z,\n",
    "            name=c,\n",
    "            marker_size=2,\n",
    "            mode=\"markers\",\n",
    "        )\n",
    "    )\n",
    "\n",
    "fig.update_layout(\n",
    "    scene_aspectmode=\"cube\",\n",
    "    scene_camera={\n",
    "        \"up\": {\n",
    "            \"x\": -0.1158525218946756,\n",
    "            \"y\": -0.65074497945838,\n",
    "            \"z\": -0.7504060000295556,\n",
    "        },\n",
    "        \"center\": {\n",
    "            \"x\": 0.5336066340193244,\n",
    "            \"y\": 0.12181145357337546,\n",
    "            \"z\": -0.04933289270599285,\n",
    "        },\n",
    "        \"eye\": {\n",
    "            \"x\": -1.765254915630703,\n",
    "            \"y\": -0.41288975424229607,\n",
    "            \"z\": 0.7692680173158395,\n",
    "        },\n",
    "    },\n",
    "    autosize=False,\n",
    "    width=500,\n",
    "    height=500,\n",
    ")\n",
    "bcolor = \"rgb(255, 255, 255)\"\n",
    "fig.update_layout(\n",
    "    scene=dict(\n",
    "        xaxis=dict(\n",
    "            backgroundcolor=bcolor,\n",
    "            gridcolor=bcolor,\n",
    "            visible=False,\n",
    "            showbackground=True,\n",
    "            zerolinecolor=bcolor,\n",
    "        ),\n",
    "        yaxis=dict(\n",
    "            backgroundcolor=bcolor,\n",
    "            gridcolor=bcolor,\n",
    "            visible=False,\n",
    "            showbackground=True,\n",
    "            zerolinecolor=bcolor,\n",
    "        ),\n",
    "        zaxis=dict(\n",
    "            backgroundcolor=bcolor,\n",
    "            gridcolor=bcolor,\n",
    "            visible=False,\n",
    "            showbackground=True,\n",
    "            zerolinecolor=bcolor,\n",
    "        ),\n",
    "    ),\n",
    "    width=700,\n",
    "    margin=dict(r=10, l=10, b=10, t=10),\n",
    ")\n",
    "fig.show()"
   ]
  },
  {
   "cell_type": "code",
   "execution_count": null,
   "metadata": {},
   "outputs": [],
   "source": []
  },
  {
   "cell_type": "markdown",
   "metadata": {},
   "source": [
    "## Create initial guess "
   ]
  },
  {
   "cell_type": "markdown",
   "metadata": {},
   "source": [
    "### Gathering input data of reference points"
   ]
  },
  {
   "cell_type": "code",
   "execution_count": null,
   "metadata": {},
   "outputs": [],
   "source": [
    "p_glene_scan = np.array(df_scan[\"p_glene_scan\"].p3d.mean())\n",
    "p_coracoide_scan = np.array(df_scan[\"p_coracoide_scan\"].p3d.mean())\n",
    "p_acromion_scan = np.array(df_scan[\"p_acromion_scan\"].p3d.mean())\n",
    "\n",
    "tri_point_stl = np.concatenate([p_glene_stl, p_coracoide_stl, p_acromion_stl]).reshape(\n",
    "    -1, 3\n",
    ")\n",
    "tri_point_scan = np.concatenate(\n",
    "    [p_glene_scan, p_coracoide_scan, p_acromion_scan]\n",
    ").reshape(-1, 3)"
   ]
  },
  {
   "cell_type": "markdown",
   "metadata": {},
   "source": [
    "### Compute initial guess"
   ]
  },
  {
   "cell_type": "code",
   "execution_count": null,
   "metadata": {},
   "outputs": [],
   "source": [
    "def unpack(X):\n",
    "    return X.reshape(2, 3)\n",
    "\n",
    "\n",
    "def cost(X):\n",
    "    Rsc2stl, Tsc2stl = unpack(X)\n",
    "    tri_point_out = gbu.utils.apply_RT(tri_point_scan, Rsc2stl, Tsc2stl)\n",
    "    dist = abs(tri_point_stl - tri_point_out)\n",
    "    pen_pin_radius = 0\n",
    "    res = dist - pen_pin_radius\n",
    "\n",
    "    return res.flatten()\n",
    "\n",
    "\n",
    "X0 = np.zeros(6)\n",
    "sol = optimize.least_squares(\n",
    "    cost,\n",
    "    X0,\n",
    "    method=\"lm\",\n",
    "    ftol=1.0e-12,\n",
    "    xtol=1.0e-12,\n",
    "    gtol=1.0e-10,\n",
    ")\n",
    "X_pre = sol.x\n",
    "R_inital_guess, T_initial_guess = unpack(X_pre)\n",
    "print(f\"Initial guess solution: rvec={R_inital_guess}, tvec={T_initial_guess}\")"
   ]
  },
  {
   "cell_type": "markdown",
   "metadata": {},
   "source": [
    "## Surface match with full scan"
   ]
  },
  {
   "cell_type": "markdown",
   "metadata": {},
   "source": [
    "### Gathering input data of full scan"
   ]
  },
  {
   "cell_type": "code",
   "execution_count": null,
   "metadata": {},
   "outputs": [],
   "source": [
    "p_full_scan_sc = np.array(df_scan[\"p_full_scan\"])\n",
    "\n",
    "# load full scapula expand\n",
    "scale = 1e-3  # convert to meter\n",
    "mesh_scapula = trimesh.exchange.load.load(\"scapula.stl\", type=\"stl\")\n",
    "mesh_scapula.vertices *= scale"
   ]
  },
  {
   "cell_type": "markdown",
   "metadata": {},
   "source": [
    "### Optimization"
   ]
  },
  {
   "cell_type": "code",
   "execution_count": null,
   "metadata": {},
   "outputs": [],
   "source": [
    "def cost(X, p3d, mesh):\n",
    "    Rsc2stl, Tsc2stl = unpack(X)\n",
    "    p_stl = gbu.utils.apply_RT(p3d, Rsc2stl, Tsc2stl)\n",
    "    dist = trimesh.proximity.signed_distance(mesh, p_stl)\n",
    "    pen_pin_radius = 0\n",
    "    res = dist - pen_pin_radius\n",
    "    return res\n",
    "\n",
    "\n",
    "sol = optimize.least_squares(\n",
    "    cost,\n",
    "    X_pre,\n",
    "    method=\"lm\",\n",
    "    ftol=1.0e-12,\n",
    "    xtol=1.0e-12,\n",
    "    gtol=1.0e-10,\n",
    "    args=(p_full_scan_sc, mesh_scapula),\n",
    ")\n",
    "\n",
    "R_sc2stl_sol, T_sc2stl_sol = unpack(sol.x)\n",
    "print(f\"Final solution: rvec={R_sc2stl_sol}, tvec={T_sc2stl_sol}\")"
   ]
  },
  {
   "cell_type": "markdown",
   "metadata": {},
   "source": [
    "### Plot results"
   ]
  },
  {
   "cell_type": "code",
   "execution_count": null,
   "metadata": {
    "tags": [
     "hide-input"
    ]
   },
   "outputs": [],
   "source": [
    "p_full_scan_stl = gbu.utils.apply_RT(p_full_scan_sc, R_sc2stl_sol, T_sc2stl_sol)\n",
    "\n",
    "fig = create_mesh3D(stl_file=\"scapula.stl\", title=\"Scapula Left <br> stl file\")\n",
    "fig = add_points(points=p_full_scan_stl, fig=fig, name=\"scanned_points\", marker_size=10)\n",
    "fig.update_layout(\n",
    "    scene_camera=camera,\n",
    "    autosize=False,\n",
    "    width=500,\n",
    "    height=500,\n",
    ")\n",
    "fig.show()"
   ]
  },
  {
   "cell_type": "code",
   "execution_count": null,
   "metadata": {},
   "outputs": [],
   "source": []
  }
 ],
 "metadata": {
  "celltoolbar": "Edit Metadata",
  "interpreter": {
   "hash": "e236f0c29ea6efb4d79ddc00bd91f1d1642b65f355728415d6cc1154b712ce99"
  },
  "kernelspec": {
   "display_name": "Python 3 (ipykernel)",
   "language": "python",
   "name": "python3"
  },
  "language_info": {
   "codemirror_mode": {
    "name": "ipython",
    "version": 3
   },
   "file_extension": ".py",
   "mimetype": "text/x-python",
   "name": "python",
   "nbconvert_exporter": "python",
   "pygments_lexer": "ipython3",
   "version": "3.8.12"
  }
 },
 "nbformat": 4,
 "nbformat_minor": 4
}
