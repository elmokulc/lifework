{
 "cells": [
  {
   "cell_type": "markdown",
   "metadata": {},
   "source": [
    "# Creation of composite marker from a stone\n"
   ]
  },
  {
   "cell_type": "markdown",
   "metadata": {},
   "source": [
    "## Materials\n",
    "### Localizator \n",
    "\n",
    "### Scene and equipements"
   ]
  },
  {
   "cell_type": "markdown",
   "metadata": {},
   "source": [
    "## Method"
   ]
  },
  {
   "cell_type": "markdown",
   "metadata": {},
   "source": [
    "### Module importations"
   ]
  },
  {
   "cell_type": "code",
   "execution_count": null,
   "metadata": {},
   "outputs": [],
   "source": [
    "import os\n",
    "import json\n",
    "import time\n",
    "\n",
    "import numpy as np\n",
    "from cv2 import aruco\n",
    "import gbu  # <- python -m pip install git+https://github.com/elmokulc/GBU_pose_classifier.git\n",
    "import matplotlib.pyplot as plt"
   ]
  },
  {
   "cell_type": "markdown",
   "metadata": {},
   "source": [
    "### Import image dataset"
   ]
  },
  {
   "cell_type": "markdown",
   "metadata": {},
   "source": [
    "You can download the images source from [here](https://github.com/elmokulc/GBU_pose_classifier/archive/refs/tags/GBU-0.0.tar.gz)"
   ]
  },
  {
   "cell_type": "code",
   "execution_count": null,
   "metadata": {},
   "outputs": [],
   "source": [
    "if not os.path.isfile(\"./GBU-0.0.tar.gz\"):\n",
    "    ! wget https://github.com/elmokulc/GBU_pose_classifier/archive/refs/tags/GBU-0.0.tar.gz \n",
    "if not os.path.isdir(\"./_dataset\"):\n",
    "    !tar -zxf GBU-0.0.tar.gz GBU_pose_classifier-GBU-0.0/dataset_subsample && \\\n",
    "    mkdir _dataset && \\\n",
    "    cp GBU_pose_classifier-GBU-0.0/dataset_subsample/* ./_dataset/ && \\\n",
    "    rm -r GBU_pose_classifier-GBU-0.0 && \\\n",
    "    echo \"Image importation done !\""
   ]
  },
  {
   "cell_type": "markdown",
   "metadata": {},
   "source": [
    "### Setting up dataset"
   ]
  },
  {
   "cell_type": "code",
   "execution_count": null,
   "metadata": {},
   "outputs": [],
   "source": [
    "# SETUP\n",
    "image_directory = \"./_dataset/\"\n",
    "\n",
    "metadata = json.load(open(image_directory + \"metadata.json\"))\n",
    "camera_matrix = np.array(metadata[\"camera_matrix\"])\n",
    "distortion_coefficients = np.array(metadata[\"distortion_coefficients\"])\n",
    "md = float(metadata[\"aruco_marker_size\"].split()[0])\n",
    "marker_dimension = {i: md for i in range(1, 250)}\n",
    "marker_size = 12.4079e-3\n",
    "marker_dimension = {i: marker_size for i in range(1, 250)}\n",
    "\n",
    "# Aruco settings\n",
    "parameters = aruco.DetectorParameters_create()\n",
    "parameters.cornerRefinementMethod = 3\n",
    "parameters.cornerRefinementWinSize = 5\n",
    "parameters.cornerRefinementMaxIterations = 100"
   ]
  },
  {
   "cell_type": "markdown",
   "metadata": {},
   "source": [
    "#### Individual marker pose estimation"
   ]
  },
  {
   "cell_type": "code",
   "execution_count": null,
   "metadata": {
    "tags": [
     "hide-output"
    ]
   },
   "outputs": [],
   "source": [
    "# STEP 1: PREPROCESSING\n",
    "print(\"# BATCH INTITIALIZATION\")\n",
    "batch = gbu.calibration.ImageBatchCalibration(\n",
    "    aruco_dict=aruco.DICT_6X6_250,\n",
    "    parameters=parameters,\n",
    "    marker_dimension=marker_dimension,\n",
    "    output_directory=\"./_outputs_calibration/\",\n",
    "    camera_matrix=camera_matrix,\n",
    "    distortion_coefficients=distortion_coefficients,\n",
    ")\n",
    "\n",
    "batch.load_image_batch(directory=image_directory)\n",
    "batch.detect_markers(\n",
    "    plot_markers=False, enforce=False, meta_filename=\"metadata.p\", protocol=4\n",
    ")\n",
    "batch.estimate_pose()"
   ]
  },
  {
   "cell_type": "markdown",
   "metadata": {
    "tags": [
     "hide-output"
    ]
   },
   "source": [
    "#### Graph theory & pre-optmization educated guess"
   ]
  },
  {
   "cell_type": "code",
   "execution_count": null,
   "metadata": {},
   "outputs": [],
   "source": [
    "data, graph, central_mk, cycles = batch.get_graph_data(\n",
    "    atomic_cycle=False, enabled_central_mk=True\n",
    ")\n",
    "MG = gbu.utils.get_multigraph(data=data)\n",
    "gbu.utils.plot_graph(G=graph, MG=MG)"
   ]
  },
  {
   "cell_type": "code",
   "execution_count": null,
   "metadata": {
    "tags": [
     "hide-output"
    ]
   },
   "outputs": [],
   "source": [
    "batch.get_good_class()\n",
    "batch.graph_calibration()"
   ]
  },
  {
   "cell_type": "code",
   "execution_count": null,
   "metadata": {},
   "outputs": [],
   "source": [
    "batch.plot_gra"
   ]
  },
  {
   "cell_type": "markdown",
   "metadata": {},
   "source": [
    "#### Least-square optimization"
   ]
  },
  {
   "cell_type": "code",
   "execution_count": null,
   "metadata": {
    "tags": [
     "hide-output"
    ]
   },
   "outputs": [],
   "source": [
    "t0 = time.time()\n",
    "compo, poseBatch, sol = batch.optimize_calibration()\n",
    "t1 = time.time()\n",
    "print(\n",
    "    \"=> Ran optimization in {0}s for {1} poses\".format(\n",
    "        (t1 - t0), len(batch.data_good_core)\n",
    "    )\n",
    ")"
   ]
  },
  {
   "cell_type": "markdown",
   "metadata": {},
   "source": [
    "#### Reprojections error "
   ]
  },
  {
   "cell_type": "code",
   "execution_count": null,
   "metadata": {},
   "outputs": [],
   "source": [
    "batch.plot_reprojection_errors(\n",
    "    global_plot=True, individual_plots=False, plot_type=\"interactive\"\n",
    ")"
   ]
  },
  {
   "cell_type": "code",
   "execution_count": null,
   "metadata": {},
   "outputs": [],
   "source": [
    "import plotly.express as px\n",
    "import plotly.graph_objects as go\n",
    "\n",
    "\n",
    "data_projected_points = batch.projected_points()"
   ]
  },
  {
   "cell_type": "code",
   "execution_count": null,
   "metadata": {},
   "outputs": [],
   "source": []
  }
 ],
 "metadata": {
  "interpreter": {
   "hash": "e236f0c29ea6efb4d79ddc00bd91f1d1642b65f355728415d6cc1154b712ce99"
  },
  "kernelspec": {
   "display_name": "Python 3",
   "language": "python",
   "name": "python3"
  },
  "language_info": {
   "codemirror_mode": {
    "name": "ipython",
    "version": 3
   },
   "file_extension": ".py",
   "mimetype": "text/x-python",
   "name": "python",
   "nbconvert_exporter": "python",
   "pygments_lexer": "ipython3",
   "version": "3.7.7"
  }
 },
 "nbformat": 4,
 "nbformat_minor": 4
}
