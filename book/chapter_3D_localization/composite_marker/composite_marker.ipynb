{
 "cells": [
  {
   "cell_type": "markdown",
   "metadata": {},
   "source": [
    "# Composite marker\n",
    "---\n",
    "\n",
    "In this section, we will see the following topics :\n",
    "\n",
    "- Why did we come to a composite marker ? \n",
    "- What is a composite marker ? \n",
    "- How to create a composite marker ? \n",
    "- Main outcomes"
   ]
  },
  {
   "cell_type": "markdown",
   "metadata": {},
   "source": []
  }
 ],
 "metadata": {
  "interpreter": {
   "hash": "e236f0c29ea6efb4d79ddc00bd91f1d1642b65f355728415d6cc1154b712ce99"
  },
  "kernelspec": {
   "display_name": "Python 3.7.7 ('myenv')",
   "language": "python",
   "name": "python3"
  },
  "language_info": {
   "name": "python",
   "version": "3.7.7"
  }
 },
 "nbformat": 4,
 "nbformat_minor": 2
}
