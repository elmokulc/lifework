{
 "cells": [
  {
   "cell_type": "markdown",
   "metadata": {},
   "source": [
    "# Construction of a reference from two composite markers\n",
    "---"
   ]
  },
  {
   "cell_type": "code",
   "execution_count": null,
   "metadata": {},
   "outputs": [],
   "source": [
    "import gbu\n",
    "import numpy as np\n",
    "import plotly.graph_objects as go\n",
    "from cv2 import aruco\n",
    "import json as js\n",
    "from skimage import io"
   ]
  },
  {
   "cell_type": "code",
   "execution_count": null,
   "metadata": {},
   "outputs": [],
   "source": [
    "compo_drill_guide = gbu.core.load_composite(\"composite_calib_geo_axis_drill_guide.json\")\n",
    "compo_implant = gbu.core.load_composite(\"composite_implant.json\")\n",
    "\n",
    "composites_dic = {\"drill_guide\": compo_drill_guide, \"implant\": compo_implant}\n",
    "\n",
    "image_directory = \"./\"\n",
    "\n",
    "with open(\"./metadata.json\", \"r\") as f:\n",
    "    metadata = js.load(f)\n",
    "camera_matrix = np.array(metadata[\"camera_matrix\"])\n",
    "distortion_coefficients = np.array(metadata[\"distortion_coefficients\"])\n",
    "\n",
    "parameters = aruco.DetectorParameters_create()\n",
    "parameters.cornerRefinementMethod = 3\n",
    "parameters.cornerRefinementMaxIterations = 100\n",
    "\n",
    "batch = gbu.calibration.ImageBatchCompositePose(\n",
    "    composites=composites_dic,\n",
    "    parameters=parameters,\n",
    "    output_directory=\"./_outputs/\",\n",
    "    camera_matrix=camera_matrix,\n",
    "    distortion_coefficients=distortion_coefficients,\n",
    "    directory=image_directory,\n",
    ")"
   ]
  },
  {
   "cell_type": "code",
   "execution_count": null,
   "metadata": {},
   "outputs": [],
   "source": [
    "batch.draw_xyz_composite(key=\"implant\", dimension=0.001)\n",
    "batch.draw_xyz_composite(key=\"drill_guide\", dimension=0.001)"
   ]
  },
  {
   "cell_type": "code",
   "execution_count": null,
   "metadata": {},
   "outputs": [],
   "source": [
    "batch.poseBatches[\"drill_guide\"].as_dataframe()"
   ]
  },
  {
   "cell_type": "code",
   "execution_count": null,
   "metadata": {},
   "outputs": [],
   "source": []
  }
 ],
 "metadata": {
  "interpreter": {
   "hash": "e236f0c29ea6efb4d79ddc00bd91f1d1642b65f355728415d6cc1154b712ce99"
  },
  "kernelspec": {
   "display_name": "Python 3.7.7 ('myenv')",
   "language": "python",
   "name": "python3"
  },
  "language_info": {
   "codemirror_mode": {
    "name": "ipython",
    "version": 3
   },
   "file_extension": ".py",
   "mimetype": "text/x-python",
   "name": "python",
   "nbconvert_exporter": "python",
   "pygments_lexer": "ipython3",
   "version": "3.8.12"
  }
 },
 "nbformat": 4,
 "nbformat_minor": 2
}
